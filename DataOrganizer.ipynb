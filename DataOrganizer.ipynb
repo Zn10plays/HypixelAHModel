{
 "cells": [
  {
   "cell_type": "code",
   "execution_count": null,
   "metadata": {},
   "outputs": [],
   "source": [
    "import numpy as np\n",
    "import pandas as pd\n",
    "import matplotlib.pyplot as plt\n",
    "from requests import get\n",
    "import tensorflow as tf\n",
    "import xgboost as xgb\n",
    "import os"
   ]
  },
  {
   "cell_type": "code",
   "execution_count": null,
   "outputs": [],
   "source": [
    "pets = ['PET_AMMONITE', 'PET_ARMADILLO', 'PET_BABY_YETI', 'PET_BAL','PET_BAT','PET_BEE','PET_BLACK_CAT','PET_BLAZE','PET_BLUE_WHALE','PET_CHICKEN','PET_DOLPHIN','PET_ELEPHANT','PET_ENDER_DRAGON','PET_ENDERMAN','PET_ENDERMITE','PET_FLYING_FISH','PET_GHOUL','PET_GIRAFFE','PET_GOLDEN_DRAGON','PET_GOLEM','PET_GRIFFIN','PET_GUARDIAN','PET_HORSE','PET_HOUND','PET_JELLYFISH','PET_JERRY','PET_LION','PET_MAGMA_CUBE','PET_MEGALODON','PET_MITHRIL_GOLEM','PET_MONKEY','PET_MOOSHROOM_COW','PET_OCELOT','PET_PARROT','PET_PHOENIX','PET_PIG','PET_PIGMAN','PET_RABBIT','PET_RAT','PET_REINDEER','PET_ROCK','PET_SCATHA','PET_SHEEP','PET_SILVERFISH','PET_SKELETON','PET_SKELETON_HORSE','PET_SNAIL','PET_SNOWMAN','PET_SPIDER','PET_SPIRIT','PET_SQUID','PET_TARANTULA','PET_TIGER','PET_TURTLE','PET_FROST_WISP','PET_WITHER_SKELETON','PET_WOLF','PET_ZOMBIE']"
   ],
   "metadata": {
    "collapsed": false
   }
  },
  {
   "cell_type": "code",
   "execution_count": null,
   "outputs": [],
   "source": [
    "petsData = []\n",
    "\n",
    "for i in pets:\n",
    "    for j in range(1):\n",
    "        res = get(\n",
    "            f'https://sky.coflnet.com/api/auctions/tag/{i}/sold?page={j}&pageSize=1000&token=64wcAGNBYE8tMW7w9W2vWq')\n",
    "        petsData.extend(res.json())"
   ],
   "metadata": {
    "collapsed": false
   }
  },
  {
   "cell_type": "code",
   "execution_count": null,
   "outputs": [],
   "source": [
    "petsData = list(filter(lambda elm: not isinstance(elm, str), petsData))"
   ],
   "metadata": {
    "collapsed": false
   }
  },
  {
   "cell_type": "code",
   "execution_count": null,
   "outputs": [],
   "source": [
    "print(len(petsData))"
   ],
   "metadata": {
    "collapsed": false
   }
  },
  {
   "cell_type": "code",
   "execution_count": null,
   "outputs": [],
   "source": [
    "raw_df = pd.DataFrame(petsData)\n",
    "# df.columns"
   ],
   "metadata": {
    "collapsed": false
   }
  },
  {
   "cell_type": "code",
   "execution_count": null,
   "outputs": [],
   "source": [
    "def organize_data(df):\n",
    "    price, start_time, end_time = df['highestBidAmount'], df['start'],  df['end']\n",
    "    # start_time = pd.to_datetime(start_time, format='mixed').astype('int64')\n",
    "    end_time = pd.to_datetime(end_time, format='mixed').astype('int64')\n",
    "\n",
    "    nbtData = pd.json_normalize(df['flatNbt'])\n",
    "\n",
    "    nbtData = nbtData.drop(columns=['uuid', 'uid', 'bossId', 'hideRightClick', 'spawnedFor', 'active', 'blaze_kills'])\n",
    "\n",
    "    nbtData['candyUsed'] = nbtData['candyUsed'].fillna(0)\n",
    "    nbtData = nbtData.fillna('')\n",
    "\n",
    "    nbtData.type = nbtData.type.astype('category')\n",
    "    nbtData.skin = nbtData.skin.astype('category')\n",
    "    nbtData.heldItem = nbtData.heldItem.astype('category')\n",
    "    nbtData.tier = nbtData.tier.astype('category')\n",
    "\n",
    "    nbtData.exp = nbtData.exp.astype(np.float32)\n",
    "    nbtData.hideInfo = nbtData.hideInfo.astype(bool)\n",
    "    nbtData.candyUsed = nbtData.candyUsed.astype(int)\n",
    "\n",
    "    return pd.concat([nbtData, price, end_time], axis=1)"
   ],
   "metadata": {
    "collapsed": false
   }
  },
  {
   "cell_type": "code",
   "execution_count": null,
   "outputs": [],
   "source": [
    "df = organize_data(raw_df)"
   ],
   "metadata": {
    "collapsed": false
   }
  },
  {
   "cell_type": "code",
   "execution_count": null,
   "outputs": [],
   "source": [
    "def get_median(df, item):\n",
    "    all_items = df[(df['type'] == item.values[0][0]) & (df['tier'] == item.values[0][2])]\n",
    "    return all_items['highestBidAmount'].median()\n"
   ],
   "metadata": {
    "collapsed": false
   }
  },
  {
   "cell_type": "code",
   "execution_count": null,
   "outputs": [],
   "source": [
    "bst = xgb.Booster()"
   ],
   "metadata": {
    "collapsed": false
   }
  },
  {
   "cell_type": "code",
   "execution_count": null,
   "outputs": [],
   "source": [
    "bst.load_model('./model.json')"
   ],
   "metadata": {
    "collapsed": false
   }
  },
  {
   "cell_type": "code",
   "execution_count": null,
   "outputs": [],
   "source": [],
   "metadata": {
    "collapsed": false
   }
  }
 ],
 "metadata": {
  "kernelspec": {
   "name": "hypri",
   "language": "python",
   "display_name": "hypri"
  },
  "language_info": {
   "codemirror_mode": {
    "name": "ipython",
    "version": 3
   },
   "file_extension": ".py",
   "mimetype": "text/x-python",
   "name": "python",
   "nbconvert_exporter": "python",
   "pygments_lexer": "ipython3",
   "version": "3.11.3"
  },
  "orig_nbformat": 4
 },
 "nbformat": 4,
 "nbformat_minor": 2
}
