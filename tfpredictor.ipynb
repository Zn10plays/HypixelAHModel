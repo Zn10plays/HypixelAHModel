{
 "cells": [
  {
   "cell_type": "code",
   "execution_count": 1,
   "metadata": {
    "id": "Rm2sFrb8--bB",
    "ExecuteTime": {
     "end_time": "2023-07-17T16:56:13.644035800Z",
     "start_time": "2023-07-17T16:56:05.475089100Z"
    }
   },
   "outputs": [],
   "source": [
    "import numpy as np\n",
    "import pandas as pd\n",
    "import matplotlib.pyplot as plt\n",
    "from requests import get\n",
    "import tensorflow as tf\n",
    "import os"
   ]
  },
  {
   "cell_type": "code",
   "execution_count": 2,
   "outputs": [],
   "source": [
    "%load_ext tensorboard"
   ],
   "metadata": {
    "collapsed": false,
    "ExecuteTime": {
     "end_time": "2023-07-17T16:56:13.652989100Z",
     "start_time": "2023-07-17T16:56:13.645079700Z"
    }
   }
  },
  {
   "cell_type": "code",
   "execution_count": 3,
   "outputs": [
    {
     "data": {
      "text/plain": "'2.12.0'"
     },
     "execution_count": 3,
     "metadata": {},
     "output_type": "execute_result"
    }
   ],
   "source": [
    "tf.__version__"
   ],
   "metadata": {
    "collapsed": false,
    "ExecuteTime": {
     "end_time": "2023-07-17T16:56:13.667622100Z",
     "start_time": "2023-07-17T16:56:13.654998600Z"
    }
   }
  },
  {
   "cell_type": "code",
   "execution_count": 4,
   "outputs": [
    {
     "data": {
      "text/plain": "[PhysicalDevice(name='/physical_device:CPU:0', device_type='CPU')]"
     },
     "execution_count": 4,
     "metadata": {},
     "output_type": "execute_result"
    }
   ],
   "source": [
    "tf.config.list_physical_devices()"
   ],
   "metadata": {
    "collapsed": false,
    "ExecuteTime": {
     "end_time": "2023-07-17T16:56:13.717367400Z",
     "start_time": "2023-07-17T16:56:13.667622100Z"
    }
   }
  },
  {
   "cell_type": "code",
   "execution_count": 5,
   "outputs": [],
   "source": [
    "pd.options.mode.chained_assignment = None  # default='warn'"
   ],
   "metadata": {
    "collapsed": false,
    "ExecuteTime": {
     "end_time": "2023-07-17T16:56:13.717367400Z",
     "start_time": "2023-07-17T16:56:13.676635400Z"
    }
   }
  },
  {
   "cell_type": "code",
   "execution_count": 6,
   "metadata": {
    "id": "UpC2zn99BCWu",
    "ExecuteTime": {
     "end_time": "2023-07-17T16:56:13.729367300Z",
     "start_time": "2023-07-17T16:56:13.682679200Z"
    }
   },
   "outputs": [],
   "source": [
    "pets = ['PET_AMMONITE', 'PET_ARMADILLO', 'PET_BABY_YETI', 'PET_BAL','PET_BAT','PET_BEE','PET_BLACK_CAT','PET_BLAZE','PET_BLUE_WHALE','PET_CHICKEN','PET_DOLPHIN','PET_ELEPHANT','PET_ENDER_DRAGON','PET_ENDERMAN','PET_ENDERMITE','PET_FLYING_FISH','PET_GHOUL','PET_GIRAFFE','PET_GOLDEN_DRAGON','PET_GOLEM','PET_GRIFFIN','PET_GUARDIAN','PET_HORSE','PET_HOUND','PET_JELLYFISH','PET_JERRY','PET_LION','PET_MAGMA_CUBE','PET_MEGALODON','PET_MITHRIL_GOLEM','PET_MONKEY','PET_MOOSHROOM_COW','PET_OCELOT','PET_PARROT','PET_PHOENIX','PET_PIG','PET_PIGMAN','PET_RABBIT','PET_RAT','PET_REINDEER','PET_ROCK','PET_SCATHA','PET_SHEEP','PET_SILVERFISH','PET_SKELETON','PET_SKELETON_HORSE','PET_SNAIL','PET_SNOWMAN','PET_SPIDER','PET_SPIRIT','PET_SQUID','PET_TARANTULA','PET_TIGER','PET_TURTLE','PET_FROST_WISP','PET_WITHER_SKELETON','PET_WOLF','PET_ZOMBIE']"
   ]
  },
  {
   "cell_type": "code",
   "execution_count": 7,
   "metadata": {
    "id": "sYxAJQDh-9Kg",
    "ExecuteTime": {
     "end_time": "2023-07-17T16:57:53.418312800Z",
     "start_time": "2023-07-17T16:56:13.688369300Z"
    }
   },
   "outputs": [],
   "source": [
    "petsData = []\n",
    "\n",
    "for i in pets:\n",
    "  for j in range(1):\n",
    "    res = get(f'https://sky.coflnet.com/api/auctions/tag/{i}/sold?page={j}&pageSize=1000&token=64wcAGNBYE8tMW7w9W2vWq')\n",
    "    petsData.extend(res.json())"
   ]
  },
  {
   "cell_type": "code",
   "execution_count": 8,
   "metadata": {
    "id": "C_lUodvyXJed",
    "ExecuteTime": {
     "end_time": "2023-07-17T16:57:53.431980Z",
     "start_time": "2023-07-17T16:57:53.419317200Z"
    }
   },
   "outputs": [],
   "source": [
    "petsData = list(filter(lambda elm: not isinstance(elm, str), petsData))"
   ]
  },
  {
   "cell_type": "code",
   "execution_count": 9,
   "metadata": {
    "colab": {
     "base_uri": "https://localhost:8080/"
    },
    "id": "756LwXZ7UZjv",
    "outputId": "16e8662a-10fd-4772-aa48-b0016eef7450",
    "ExecuteTime": {
     "end_time": "2023-07-17T16:57:53.440740400Z",
     "start_time": "2023-07-17T16:57:53.433964500Z"
    }
   },
   "outputs": [
    {
     "name": "stdout",
     "output_type": "stream",
     "text": [
      "56766\n"
     ]
    }
   ],
   "source": [
    "print(len(petsData))"
   ]
  },
  {
   "cell_type": "code",
   "execution_count": 10,
   "metadata": {
    "colab": {
     "base_uri": "https://localhost:8080/"
    },
    "id": "g7l2YjDFGS01",
    "outputId": "25c1add5-1e92-4df3-ff3f-b9ca13657703",
    "ExecuteTime": {
     "end_time": "2023-07-17T16:57:53.841812100Z",
     "start_time": "2023-07-17T16:57:53.442775400Z"
    }
   },
   "outputs": [
    {
     "data": {
      "text/plain": "Index(['uuid', 'count', 'startingBid', 'tag', 'itemName', 'start', 'end',\n       'auctioneerId', 'profileId', 'coop', 'coopMembers', 'highestBidAmount',\n       'bids', 'anvilUses', 'enchantments', 'nbtData', 'itemCreatedAt',\n       'reforge', 'category', 'tier', 'bin', 'flatNbt'],\n      dtype='object')"
     },
     "execution_count": 10,
     "metadata": {},
     "output_type": "execute_result"
    }
   ],
   "source": [
    "raw_df = pd.DataFrame(petsData)\n",
    "raw_df.columns"
   ]
  },
  {
   "cell_type": "code",
   "execution_count": 11,
   "outputs": [],
   "source": [
    "nbtData = pd.json_normalize(raw_df.flatNbt)"
   ],
   "metadata": {
    "collapsed": false,
    "ExecuteTime": {
     "end_time": "2023-07-17T16:57:54.091872300Z",
     "start_time": "2023-07-17T16:57:53.855785500Z"
    }
   }
  },
  {
   "cell_type": "code",
   "execution_count": 12,
   "outputs": [],
   "source": [
    "nbtData = nbtData[['exp', 'tier', 'heldItem', 'skin']]"
   ],
   "metadata": {
    "collapsed": false,
    "ExecuteTime": {
     "end_time": "2023-07-17T16:57:54.108526100Z",
     "start_time": "2023-07-17T16:57:54.092844100Z"
    }
   }
  },
  {
   "cell_type": "code",
   "execution_count": 13,
   "outputs": [],
   "source": [
    "nbtData.fillna('<null>', inplace=True)"
   ],
   "metadata": {
    "collapsed": false,
    "ExecuteTime": {
     "end_time": "2023-07-17T16:57:54.141750400Z",
     "start_time": "2023-07-17T16:57:54.109548300Z"
    }
   }
  },
  {
   "cell_type": "code",
   "execution_count": 14,
   "outputs": [],
   "source": [
    "nbtData['exp'] = nbtData['exp'].apply(float)"
   ],
   "metadata": {
    "collapsed": false,
    "ExecuteTime": {
     "end_time": "2023-07-17T16:57:54.156715Z",
     "start_time": "2023-07-17T16:57:54.136721400Z"
    }
   }
  },
  {
   "cell_type": "code",
   "execution_count": 15,
   "outputs": [],
   "source": [
    "vocabulary = list(set(nbtData.tier.unique().tolist() + pets + nbtData.heldItem.unique().tolist() + nbtData.skin.unique().tolist()))"
   ],
   "metadata": {
    "collapsed": false,
    "ExecuteTime": {
     "end_time": "2023-07-17T16:57:54.179077300Z",
     "start_time": "2023-07-17T16:57:54.157709200Z"
    }
   }
  },
  {
   "cell_type": "code",
   "execution_count": 16,
   "outputs": [],
   "source": [
    "cat_to_id = tf.keras.layers.StringLookup(vocabulary=vocabulary, mask_token=None)"
   ],
   "metadata": {
    "collapsed": false,
    "ExecuteTime": {
     "end_time": "2023-07-17T16:57:54.285603900Z",
     "start_time": "2023-07-17T16:57:54.180052700Z"
    }
   }
  },
  {
   "cell_type": "code",
   "execution_count": 17,
   "outputs": [],
   "source": [
    "nbtData['tier'] = cat_to_id(nbtData['tier'])\n",
    "nbtData['heldItem'] = cat_to_id(nbtData['heldItem'])\n",
    "nbtData['skin'] = cat_to_id(nbtData['skin'])"
   ],
   "metadata": {
    "collapsed": false,
    "ExecuteTime": {
     "end_time": "2023-07-17T16:57:54.309039600Z",
     "start_time": "2023-07-17T16:57:54.292572800Z"
    }
   }
  },
  {
   "cell_type": "code",
   "execution_count": 18,
   "outputs": [
    {
     "data": {
      "text/plain": "                exp  tier  heldItem  skin\n0      1.824320e+06    92        67    27\n1      0.000000e+00    92        27    27\n2      0.000000e+00    92        27    27\n3      6.398701e+05    92        67    27\n4      2.543691e+07    92       172    27\n...             ...   ...       ...   ...\n56761  0.000000e+00    42        27    27\n56762  2.535436e+07    92        64    27\n56763  1.948773e+04    92        27    27\n56764  0.000000e+00    92        27    27\n56765  0.000000e+00    42        27    27\n\n[56766 rows x 4 columns]",
      "text/html": "<div>\n<style scoped>\n    .dataframe tbody tr th:only-of-type {\n        vertical-align: middle;\n    }\n\n    .dataframe tbody tr th {\n        vertical-align: top;\n    }\n\n    .dataframe thead th {\n        text-align: right;\n    }\n</style>\n<table border=\"1\" class=\"dataframe\">\n  <thead>\n    <tr style=\"text-align: right;\">\n      <th></th>\n      <th>exp</th>\n      <th>tier</th>\n      <th>heldItem</th>\n      <th>skin</th>\n    </tr>\n  </thead>\n  <tbody>\n    <tr>\n      <th>0</th>\n      <td>1.824320e+06</td>\n      <td>92</td>\n      <td>67</td>\n      <td>27</td>\n    </tr>\n    <tr>\n      <th>1</th>\n      <td>0.000000e+00</td>\n      <td>92</td>\n      <td>27</td>\n      <td>27</td>\n    </tr>\n    <tr>\n      <th>2</th>\n      <td>0.000000e+00</td>\n      <td>92</td>\n      <td>27</td>\n      <td>27</td>\n    </tr>\n    <tr>\n      <th>3</th>\n      <td>6.398701e+05</td>\n      <td>92</td>\n      <td>67</td>\n      <td>27</td>\n    </tr>\n    <tr>\n      <th>4</th>\n      <td>2.543691e+07</td>\n      <td>92</td>\n      <td>172</td>\n      <td>27</td>\n    </tr>\n    <tr>\n      <th>...</th>\n      <td>...</td>\n      <td>...</td>\n      <td>...</td>\n      <td>...</td>\n    </tr>\n    <tr>\n      <th>56761</th>\n      <td>0.000000e+00</td>\n      <td>42</td>\n      <td>27</td>\n      <td>27</td>\n    </tr>\n    <tr>\n      <th>56762</th>\n      <td>2.535436e+07</td>\n      <td>92</td>\n      <td>64</td>\n      <td>27</td>\n    </tr>\n    <tr>\n      <th>56763</th>\n      <td>1.948773e+04</td>\n      <td>92</td>\n      <td>27</td>\n      <td>27</td>\n    </tr>\n    <tr>\n      <th>56764</th>\n      <td>0.000000e+00</td>\n      <td>92</td>\n      <td>27</td>\n      <td>27</td>\n    </tr>\n    <tr>\n      <th>56765</th>\n      <td>0.000000e+00</td>\n      <td>42</td>\n      <td>27</td>\n      <td>27</td>\n    </tr>\n  </tbody>\n</table>\n<p>56766 rows × 4 columns</p>\n</div>"
     },
     "execution_count": 18,
     "metadata": {},
     "output_type": "execute_result"
    }
   ],
   "source": [
    "nbtData"
   ],
   "metadata": {
    "collapsed": false,
    "ExecuteTime": {
     "end_time": "2023-07-17T16:57:54.329713200Z",
     "start_time": "2023-07-17T16:57:54.310009800Z"
    }
   }
  },
  {
   "cell_type": "code",
   "execution_count": 19,
   "outputs": [],
   "source": [
    "auction_data = raw_df[['highestBidAmount', 'end', 'tag']]"
   ],
   "metadata": {
    "collapsed": false,
    "ExecuteTime": {
     "end_time": "2023-07-17T16:57:54.332719200Z",
     "start_time": "2023-07-17T16:57:54.328709Z"
    }
   }
  },
  {
   "cell_type": "code",
   "execution_count": 20,
   "outputs": [],
   "source": [
    "auction_data['end'] = pd.to_datetime(auction_data['end']).astype('int64')/ 10**9"
   ],
   "metadata": {
    "collapsed": false,
    "ExecuteTime": {
     "end_time": "2023-07-17T16:57:54.406120100Z",
     "start_time": "2023-07-17T16:57:54.331738700Z"
    }
   }
  },
  {
   "cell_type": "code",
   "execution_count": 21,
   "outputs": [],
   "source": [
    "auction_data['tag'] = cat_to_id(auction_data['tag'])"
   ],
   "metadata": {
    "collapsed": false,
    "ExecuteTime": {
     "end_time": "2023-07-17T16:57:54.453556200Z",
     "start_time": "2023-07-17T16:57:54.379199200Z"
    }
   }
  },
  {
   "cell_type": "code",
   "execution_count": 22,
   "outputs": [],
   "source": [
    "combined_data = pd.concat([nbtData, auction_data], axis=1)"
   ],
   "metadata": {
    "collapsed": false,
    "ExecuteTime": {
     "end_time": "2023-07-17T16:57:54.463592800Z",
     "start_time": "2023-07-17T16:57:54.385674600Z"
    }
   }
  },
  {
   "cell_type": "code",
   "execution_count": 23,
   "outputs": [],
   "source": [
    "train_data = combined_data.sample(frac=.8)\n",
    "train_numeric_data = train_data[['exp', 'end']]\n",
    "train_categorical_data = train_data[['tier','heldItem', 'skin', 'tag']]\n",
    "train_label = train_data.pop('highestBidAmount')"
   ],
   "metadata": {
    "collapsed": false,
    "ExecuteTime": {
     "end_time": "2023-07-17T16:57:54.485556700Z",
     "start_time": "2023-07-17T16:57:54.391342500Z"
    }
   }
  },
  {
   "cell_type": "code",
   "execution_count": 24,
   "outputs": [],
   "source": [
    "test_data = combined_data.drop(train_data.index)\n",
    "test_numeric_data = test_data[['exp', 'end']]\n",
    "test_categorical_data = test_data[['tier','heldItem', 'skin', 'tag']]\n",
    "test_label = test_data.pop('highestBidAmount')"
   ],
   "metadata": {
    "collapsed": false,
    "ExecuteTime": {
     "end_time": "2023-07-17T16:57:54.485556700Z",
     "start_time": "2023-07-17T16:57:54.403120300Z"
    }
   }
  },
  {
   "cell_type": "code",
   "execution_count": 25,
   "outputs": [],
   "source": [
    "input_normalizer = tf.keras.layers.Normalization()\n",
    "input_normalizer.adapt(train_numeric_data)"
   ],
   "metadata": {
    "collapsed": false,
    "ExecuteTime": {
     "end_time": "2023-07-17T16:57:55.780194Z",
     "start_time": "2023-07-17T16:57:54.423557300Z"
    }
   }
  },
  {
   "cell_type": "code",
   "execution_count": 26,
   "outputs": [
    {
     "data": {
      "text/plain": "array([[9.2724470e+06, 1.6893435e+09]], dtype=float32)"
     },
     "execution_count": 26,
     "metadata": {},
     "output_type": "execute_result"
    }
   ],
   "source": [
    "input_normalizer.mean.numpy()"
   ],
   "metadata": {
    "collapsed": false,
    "ExecuteTime": {
     "end_time": "2023-07-17T16:57:55.785434800Z",
     "start_time": "2023-07-17T16:57:55.782224400Z"
    }
   }
  },
  {
   "cell_type": "code",
   "execution_count": 51,
   "outputs": [],
   "source": [
    "class Predictor(tf.keras.Model):\n",
    "    def __init__(self):\n",
    "        super().__init__(self)\n",
    "        self.num_dense = tf.keras.layers.Dense(32, activation='relu')\n",
    "\n",
    "        self.embeddings = tf.keras.layers.Embedding(len(cat_to_id.get_vocabulary()), 2)\n",
    "        self.cat_dense = tf.keras.layers.Dense(32, activation='relu')\n",
    "        self.flatten_layer = tf.keras.layers.Flatten()\n",
    "\n",
    "        self.combine_layer = tf.keras.layers.Concatenate(axis=1)\n",
    "        self.combined_dense2 = tf.keras.layers.Dense(64, activation='relu')\n",
    "        self.combined_dense3 = tf.keras.layers.Dense(8, activation='relu')\n",
    "        self.output_layer = tf.keras.layers.Dense(1)\n",
    "\n",
    "    def call(self, inputs, training=None, mask=None):\n",
    "        cat_data = inputs[1]\n",
    "        num_data = inputs[0]\n",
    "\n",
    "        # cat_data = cat_to_id(cat_data)\n",
    "        cat_data = self.embeddings(cat_data)\n",
    "        cat_data = self.flatten_layer(cat_data)\n",
    "        cat_data = self.cat_dense(cat_data)\n",
    "\n",
    "        num_data = input_normalizer(num_data)\n",
    "        num_data = self.num_dense(num_data)\n",
    "\n",
    "        concatenated = self.combine_layer([num_data, cat_data])\n",
    "        concatenated = self.combined_dense2(concatenated)\n",
    "        concatenated = self.combined_dense3(concatenated)\n",
    "\n",
    "        y = self.output_layer(concatenated)\n",
    "        return y"
   ],
   "metadata": {
    "collapsed": false,
    "ExecuteTime": {
     "end_time": "2023-07-17T17:02:35.525174200Z",
     "start_time": "2023-07-17T17:02:35.521167900Z"
    }
   }
  },
  {
   "cell_type": "code",
   "execution_count": 60,
   "outputs": [],
   "source": [
    "with tf.device('/GPU:0'):\n",
    "    model = Predictor()"
   ],
   "metadata": {
    "collapsed": false,
    "ExecuteTime": {
     "end_time": "2023-07-17T17:03:32.447341Z",
     "start_time": "2023-07-17T17:03:32.437968100Z"
    }
   }
  },
  {
   "cell_type": "code",
   "execution_count": 64,
   "outputs": [],
   "source": [
    "model.compile(optimizer=tf.keras.optimizers.Adam(learning_rate=.5), loss='log_cosh', metrics=['mae', 'mape'])"
   ],
   "metadata": {
    "collapsed": false,
    "ExecuteTime": {
     "end_time": "2023-07-17T17:03:36.508021500Z",
     "start_time": "2023-07-17T17:03:36.501926200Z"
    }
   }
  },
  {
   "cell_type": "code",
   "execution_count": 65,
   "outputs": [],
   "source": [
    "tb_callback = tf.keras.callbacks.TensorBoard('./logs', update_freq=1)"
   ],
   "metadata": {
    "collapsed": false,
    "ExecuteTime": {
     "end_time": "2023-07-17T17:03:36.713548300Z",
     "start_time": "2023-07-17T17:03:36.706097200Z"
    }
   }
  },
  {
   "cell_type": "code",
   "execution_count": null,
   "outputs": [
    {
     "name": "stdout",
     "output_type": "stream",
     "text": [
      "Epoch 1/20\n",
      "1420/1420 [==============================] - 6s 3ms/step - loss: 11103151.0000 - mae: 11103151.0000 - mape: 829.3501\n",
      "Epoch 2/20\n",
      "1420/1420 [==============================] - 5s 3ms/step - loss: 6532708.0000 - mae: 6532709.0000 - mape: 637.5681\n",
      "Epoch 3/20\n",
      "1420/1420 [==============================] - 5s 3ms/step - loss: 5891048.5000 - mae: 5891049.0000 - mape: 620.9203\n",
      "Epoch 4/20\n",
      "1420/1420 [==============================] - 5s 3ms/step - loss: 5221553.5000 - mae: 5221553.5000 - mape: 605.2407\n",
      "Epoch 5/20\n",
      "1420/1420 [==============================] - 5s 3ms/step - loss: 5320625.5000 - mae: 5320626.0000 - mape: 569.8608\n",
      "Epoch 6/20\n",
      "1098/1420 [======================>.......] - ETA: 1s - loss: 4952883.0000 - mae: 4952884.0000 - mape: 460.5309"
     ]
    }
   ],
   "source": [
    "history = model.fit([train_numeric_data, train_categorical_data], train_label, epochs=20, batch_size=32, callbacks=[tb_callback])"
   ],
   "metadata": {
    "collapsed": false,
    "is_executing": true,
    "ExecuteTime": {
     "start_time": "2023-07-17T17:03:36.938827300Z"
    }
   }
  },
  {
   "cell_type": "code",
   "execution_count": null,
   "outputs": [],
   "source": [
    "plt.plot(history.history['loss'])"
   ],
   "metadata": {
    "collapsed": false,
    "is_executing": true,
    "ExecuteTime": {
     "start_time": "2023-07-17T17:04:20.363648400Z"
    }
   }
  },
  {
   "cell_type": "code",
   "execution_count": null,
   "outputs": [],
   "source": [
    "plt.scatter(test_label, model.predict([test_numeric_data, test_categorical_data]))"
   ],
   "metadata": {
    "collapsed": false,
    "is_executing": true,
    "ExecuteTime": {
     "start_time": "2023-07-17T17:04:20.364648200Z"
    }
   }
  },
  {
   "cell_type": "code",
   "execution_count": null,
   "outputs": [],
   "source": [],
   "metadata": {
    "collapsed": false
   }
  }
 ],
 "metadata": {
  "colab": {
   "provenance": []
  },
  "kernelspec": {
   "name": "hypredictor",
   "language": "python",
   "display_name": "hypredictor"
  },
  "language_info": {
   "codemirror_mode": {
    "name": "ipython",
    "version": 3
   },
   "file_extension": ".py",
   "mimetype": "text/x-python",
   "name": "python",
   "nbconvert_exporter": "python",
   "pygments_lexer": "ipython3",
   "version": "3.11.3"
  }
 },
 "nbformat": 4,
 "nbformat_minor": 4
}
