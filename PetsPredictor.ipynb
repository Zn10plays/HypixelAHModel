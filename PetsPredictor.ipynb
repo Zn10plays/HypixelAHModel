{
  "cells": [
    {
      "cell_type": "code",
      "execution_count": null,
      "metadata": {},
      "outputs": [],
      "source": [
        "%pip install matplotlib xgboost scipy"
      ]
    },
    {
      "cell_type": "code",
      "execution_count": 5,
      "metadata": {
        "id": "Rm2sFrb8--bB"
      },
      "outputs": [],
      "source": [
        "import numpy as np\n",
        "import pandas as pd\n",
        "import matplotlib.pyplot as plt\n",
        "from requests import get\n",
        "import xgboost as xgb\n",
        "import scipy"
      ]
    },
    {
      "cell_type": "code",
      "execution_count": 6,
      "metadata": {
        "id": "UpC2zn99BCWu"
      },
      "outputs": [],
      "source": [
        "pets = ['PET_AMMONITE', 'PET_ARMADILLO', 'PET_BABY_YETI', 'PET_BAL','PET_BAT','PET_BEE','PET_BLACK_CAT','PET_BLAZE','PET_BLUE_WHALE','PET_CHICKEN','PET_DOLPHIN','PET_ELEPHANT','PET_ENDER_DRAGON','PET_ENDERMAN','PET_ENDERMITE','PET_FLYING_FISH','PET_GHOUL','PET_GIRAFFE','PET_GOLDEN_DRAGON','PET_GOLEM','PET_GRIFFIN','PET_GUARDIAN','PET_HORSE','PET_HOUND','PET_JELLYFISH','PET_JERRY','PET_LION','PET_MAGMA_CUBE','PET_MEGALODON','PET_MITHRIL_GOLEM','PET_MONKEY','PET_MOOSHROOM_COW','PET_OCELOT','PET_PARROT','PET_PHOENIX','PET_PIG','PET_PIGMAN','PET_RABBIT','PET_RAT','PET_REINDEER','PET_ROCK','PET_SCATHA','PET_SHEEP','PET_SILVERFISH','PET_SKELETON','PET_SKELETON_HORSE','PET_SNAIL','PET_SNOWMAN','PET_SPIDER','PET_SPIRIT','PET_SQUID','PET_TARANTULA','PET_TIGER','PET_TURTLE','PET_FROST_WISP','PET_WITHER_SKELETON','PET_WOLF','PET_ZOMBIE']"
      ]
    },
    {
      "cell_type": "code",
      "execution_count": 9,
      "metadata": {
        "id": "sYxAJQDh-9Kg"
      },
      "outputs": [],
      "source": [
        "petsData = []\n",
        "\n",
        "for i in pets:\n",
        "  for j in range(1):\n",
        "    res = get('https://sky.coflnet.com/api/auctions/tag/{name}/sold?page={page}&pageSize=1000'.format(name=i, page=j))\n",
        "    petsData.extend(res.json())"
      ]
    },
    {
      "cell_type": "code",
      "execution_count": 10,
      "metadata": {
        "id": "C_lUodvyXJed"
      },
      "outputs": [],
      "source": [
        "petsData = list(filter(lambda elm: not isinstance(elm, str), petsData))"
      ]
    },
    {
      "cell_type": "code",
      "execution_count": 11,
      "metadata": {
        "colab": {
          "base_uri": "https://localhost:8080/"
        },
        "id": "756LwXZ7UZjv",
        "outputId": "16e8662a-10fd-4772-aa48-b0016eef7450"
      },
      "outputs": [
        {
          "name": "stdout",
          "output_type": "stream",
          "text": [
            "56959\n"
          ]
        }
      ],
      "source": [
        "print(len(petsData))"
      ]
    },
    {
      "cell_type": "code",
      "execution_count": 12,
      "metadata": {
        "colab": {
          "base_uri": "https://localhost:8080/"
        },
        "id": "g7l2YjDFGS01",
        "outputId": "25c1add5-1e92-4df3-ff3f-b9ca13657703"
      },
      "outputs": [
        {
          "data": {
            "text/plain": [
              "Index(['uuid', 'count', 'startingBid', 'tag', 'itemName', 'start', 'end',\n",
              "       'auctioneerId', 'profileId', 'coop', 'coopMembers', 'highestBidAmount',\n",
              "       'bids', 'anvilUses', 'enchantments', 'nbtData', 'itemCreatedAt',\n",
              "       'reforge', 'category', 'tier', 'bin', 'flatNbt'],\n",
              "      dtype='object')"
            ]
          },
          "execution_count": 12,
          "metadata": {},
          "output_type": "execute_result"
        }
      ],
      "source": [
        "raw_df = pd.DataFrame(petsData)\n",
        "raw_df.columns"
      ]
    },
    {
      "cell_type": "code",
      "execution_count": 14,
      "metadata": {
        "colab": {
          "base_uri": "https://localhost:8080/"
        },
        "id": "q-Vuz_OrUoQU",
        "outputId": "85fbda07-ff14-42e8-8f65-0b1ac89ec6d9"
      },
      "outputs": [
        {
          "name": "stdout",
          "output_type": "stream",
          "text": [
            "2023-04-24 21:01:15\n"
          ]
        },
        {
          "data": {
            "text/plain": [
              "Timestamp('2023-05-24 21:19:14')"
            ]
          },
          "execution_count": 14,
          "metadata": {},
          "output_type": "execute_result"
        }
      ],
      "source": [
        "print(pd.to_datetime(pd.to_datetime(raw_df['end']).astype('int64').min()))\n",
        "pd.to_datetime(pd.to_datetime(raw_df['end']).astype('int64').max())"
      ]
    },
    {
      "cell_type": "code",
      "execution_count": 15,
      "metadata": {
        "id": "jhtnfQqJTmCi"
      },
      "outputs": [],
      "source": [
        "df = raw_df[['highestBidAmount', 'end']]"
      ]
    },
    {
      "cell_type": "code",
      "execution_count": 16,
      "metadata": {
        "id": "GE7753o2qVy0"
      },
      "outputs": [],
      "source": [
        "# nbtData = pd.json_normalize(raw_df.flatNbt.apply(lambda elm:json.loads(elm.replace('\\'', '\\\"'))))\n",
        "nbtData = pd.json_normalize(raw_df.flatNbt)"
      ]
    },
    {
      "cell_type": "code",
      "execution_count": 17,
      "metadata": {
        "id": "j2db4T44NGBs"
      },
      "outputs": [],
      "source": [
        "nbtData = nbtData.drop(columns=['uuid', 'uid', 'bossId', 'hideRightClick', 'spawnedFor', 'active', 'blaze_kills'])"
      ]
    },
    {
      "cell_type": "code",
      "execution_count": 18,
      "metadata": {
        "id": "LysTuDU0UgDD"
      },
      "outputs": [],
      "source": [
        "nbtData['candyUsed'] = nbtData['candyUsed'].fillna(0)\n",
        "nbtData = nbtData.fillna('')"
      ]
    },
    {
      "cell_type": "code",
      "execution_count": 19,
      "metadata": {
        "id": "MiuXWWfwDloy"
      },
      "outputs": [],
      "source": [
        "nbtData.type = nbtData.type.astype('category')\n",
        "nbtData.skin = nbtData.skin.astype('category')\n",
        "nbtData.heldItem = nbtData.heldItem.astype('category')\n",
        "nbtData.tier = nbtData.tier.astype('category')\n",
        "\n",
        "nbtData.exp = nbtData.exp.astype(np.float32)\n",
        "nbtData.hideInfo = nbtData.hideInfo.astype(bool)\n",
        "nbtData.candyUsed = nbtData.candyUsed.astype(int)"
      ]
    },
    {
      "cell_type": "code",
      "execution_count": 20,
      "metadata": {
        "id": "0aEhukpobLH3"
      },
      "outputs": [],
      "source": [
        "df = pd.concat([nbtData, df], axis=1)"
      ]
    },
    {
      "cell_type": "code",
      "execution_count": 21,
      "metadata": {
        "colab": {
          "base_uri": "https://localhost:8080/",
          "height": 206
        },
        "id": "UXxtq4rIdHn3",
        "outputId": "55c6868c-e382-4b80-95bd-b4627170f2e7"
      },
      "outputs": [
        {
          "data": {
            "text/html": [
              "<div>\n",
              "<style scoped>\n",
              "    .dataframe tbody tr th:only-of-type {\n",
              "        vertical-align: middle;\n",
              "    }\n",
              "\n",
              "    .dataframe tbody tr th {\n",
              "        vertical-align: top;\n",
              "    }\n",
              "\n",
              "    .dataframe thead th {\n",
              "        text-align: right;\n",
              "    }\n",
              "</style>\n",
              "<table border=\"1\" class=\"dataframe\">\n",
              "  <thead>\n",
              "    <tr style=\"text-align: right;\">\n",
              "      <th></th>\n",
              "      <th>type</th>\n",
              "      <th>exp</th>\n",
              "      <th>tier</th>\n",
              "      <th>hideInfo</th>\n",
              "      <th>heldItem</th>\n",
              "      <th>candyUsed</th>\n",
              "      <th>skin</th>\n",
              "      <th>highestBidAmount</th>\n",
              "    </tr>\n",
              "  </thead>\n",
              "  <tbody>\n",
              "    <tr>\n",
              "      <th>0</th>\n",
              "      <td>AMMONITE</td>\n",
              "      <td>1.174792e+06</td>\n",
              "      <td>LEGENDARY</td>\n",
              "      <td>True</td>\n",
              "      <td>PET_ITEM_FISHING_SKILL_BOOST_UNCOMMON</td>\n",
              "      <td>0</td>\n",
              "      <td></td>\n",
              "      <td>990000</td>\n",
              "    </tr>\n",
              "    <tr>\n",
              "      <th>1</th>\n",
              "      <td>AMMONITE</td>\n",
              "      <td>2.818614e+07</td>\n",
              "      <td>LEGENDARY</td>\n",
              "      <td>True</td>\n",
              "      <td>WASHED_UP_SOUVENIR</td>\n",
              "      <td>1</td>\n",
              "      <td></td>\n",
              "      <td>27000000</td>\n",
              "    </tr>\n",
              "    <tr>\n",
              "      <th>2</th>\n",
              "      <td>AMMONITE</td>\n",
              "      <td>0.000000e+00</td>\n",
              "      <td>LEGENDARY</td>\n",
              "      <td>True</td>\n",
              "      <td></td>\n",
              "      <td>0</td>\n",
              "      <td></td>\n",
              "      <td>800000</td>\n",
              "    </tr>\n",
              "    <tr>\n",
              "      <th>3</th>\n",
              "      <td>AMMONITE</td>\n",
              "      <td>1.277012e+06</td>\n",
              "      <td>LEGENDARY</td>\n",
              "      <td>True</td>\n",
              "      <td></td>\n",
              "      <td>0</td>\n",
              "      <td></td>\n",
              "      <td>2200000</td>\n",
              "    </tr>\n",
              "    <tr>\n",
              "      <th>4</th>\n",
              "      <td>AMMONITE</td>\n",
              "      <td>0.000000e+00</td>\n",
              "      <td>LEGENDARY</td>\n",
              "      <td>True</td>\n",
              "      <td></td>\n",
              "      <td>0</td>\n",
              "      <td></td>\n",
              "      <td>880000</td>\n",
              "    </tr>\n",
              "  </tbody>\n",
              "</table>\n",
              "</div>"
            ],
            "text/plain": [
              "       type           exp       tier  hideInfo   \n",
              "0  AMMONITE  1.174792e+06  LEGENDARY      True  \\\n",
              "1  AMMONITE  2.818614e+07  LEGENDARY      True   \n",
              "2  AMMONITE  0.000000e+00  LEGENDARY      True   \n",
              "3  AMMONITE  1.277012e+06  LEGENDARY      True   \n",
              "4  AMMONITE  0.000000e+00  LEGENDARY      True   \n",
              "\n",
              "                                heldItem  candyUsed skin  highestBidAmount  \n",
              "0  PET_ITEM_FISHING_SKILL_BOOST_UNCOMMON          0                 990000  \n",
              "1                     WASHED_UP_SOUVENIR          1               27000000  \n",
              "2                                                 0                 800000  \n",
              "3                                                 0                2200000  \n",
              "4                                                 0                 880000  "
            ]
          },
          "execution_count": 21,
          "metadata": {},
          "output_type": "execute_result"
        }
      ],
      "source": [
        "df = df.drop(columns=['end'])\n",
        "df.head()"
      ]
    },
    {
      "cell_type": "code",
      "execution_count": 22,
      "metadata": {
        "id": "a8wOM4xndUA3"
      },
      "outputs": [],
      "source": [
        "train_features = df.sample(frac=.8)\n",
        "test_fitures = df.drop(train_features.index)"
      ]
    },
    {
      "cell_type": "code",
      "execution_count": 23,
      "metadata": {
        "id": "clgVqIMOdf4m"
      },
      "outputs": [],
      "source": [
        "train_labels = train_features.pop('highestBidAmount')\n",
        "test_labels = test_fitures.pop('highestBidAmount')"
      ]
    },
    {
      "cell_type": "code",
      "execution_count": 24,
      "metadata": {
        "id": "xBgCSIT0WBf_"
      },
      "outputs": [],
      "source": [
        "train = xgb.DMatrix(train_features, label=train_labels, enable_categorical=True);\n",
        "test = xgb.DMatrix(test_fitures, label=test_labels, enable_categorical=True);"
      ]
    },
    {
      "cell_type": "code",
      "execution_count": 25,
      "metadata": {
        "id": "54BMYb4XXmxm"
      },
      "outputs": [],
      "source": [
        "params = {\n",
        "    'eta': .5,\n",
        "    'max_depth': 9,\n",
        "}"
      ]
    },
    {
      "cell_type": "code",
      "execution_count": 26,
      "metadata": {
        "id": "ZIZzBT8nd2Ce"
      },
      "outputs": [],
      "source": [
        "regressor = xgb.train(params, dtrain=train)"
      ]
    },
    {
      "cell_type": "code",
      "execution_count": 27,
      "metadata": {
        "id": "BYdTqHGFUu2L"
      },
      "outputs": [],
      "source": [
        "regressor.save_model('model.json')"
      ]
    },
    {
      "cell_type": "code",
      "execution_count": 28,
      "metadata": {
        "id": "pHHEEHPVkiVE"
      },
      "outputs": [],
      "source": [
        "predictions = regressor.predict(test)"
      ]
    },
    {
      "cell_type": "code",
      "execution_count": 30,
      "metadata": {
        "colab": {
          "base_uri": "https://localhost:8080/",
          "height": 497
        },
        "id": "o0vrqYHLlqy6",
        "outputId": "b600bcc8-666d-49dd-ee26-a1cf623fd466"
      },
      "outputs": [
        {
          "data": {
            "text/plain": [
              "<matplotlib.collections.PathCollection at 0x1c165d047d0>"
            ]
          },
          "execution_count": 30,
          "metadata": {},
          "output_type": "execute_result"
        },
        {
          "data": {
            "image/png": "[encoded data removed]",
            "text/plain": [
              "<Figure size 640x480 with 1 Axes>"
            ]
          },
          "metadata": {},
          "output_type": "display_data"
        }
      ],
      "source": [
        "plt.scatter(predictions, test_labels)"
      ]
    },
    {
      "cell_type": "code",
      "execution_count": 31,
      "metadata": {
        "id": "25FDMv3BnyH3"
      },
      "outputs": [],
      "source": [
        "error = np.abs(np.subtract(predictions,test_labels.values)).mean()"
      ]
    },
    {
      "cell_type": "code",
      "execution_count": 32,
      "metadata": {
        "colab": {
          "base_uri": "https://localhost:8080/"
        },
        "id": "oFk8TZZ-o0_i",
        "outputId": "60e5d230-c582-4812-b545-67de0df34bb5"
      },
      "outputs": [
        {
          "data": {
            "text/plain": [
              "4313213.95411665"
            ]
          },
          "execution_count": 32,
          "metadata": {},
          "output_type": "execute_result"
        }
      ],
      "source": [
        "error"
      ]
    }
  ],
  "metadata": {
    "colab": {
      "provenance": []
    },
    "kernelspec": {
      "display_name": "Python 3",
      "name": "python3"
    },
    "language_info": {
      "codemirror_mode": {
        "name": "ipython",
        "version": 3
      },
      "file_extension": ".py",
      "mimetype": "text/x-python",
      "name": "python",
      "nbconvert_exporter": "python",
      "pygments_lexer": "ipython3",
      "version": "3.11.3"
    }
  },
  "nbformat": 4,
  "nbformat_minor": 0
}
