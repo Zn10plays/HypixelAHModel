{
 "cells": [
  {
   "cell_type": "code",
   "execution_count": 3,
   "metadata": {
    "ExecuteTime": {
     "end_time": "2023-05-24T23:32:00.719924400Z",
     "start_time": "2023-05-24T23:31:56.629724900Z"
    }
   },
   "outputs": [],
   "source": [
    "import numpy as np\n",
    "import pandas as pd\n",
    "import matplotlib.pyplot as plt\n",
    "from requests import get\n",
    "import tensorflow as tf\n",
    "import xgboost as xgb\n",
    "import os"
   ]
  },
  {
   "cell_type": "code",
   "execution_count": 4,
   "outputs": [],
   "source": [
    "pets = ['PET_AMMONITE', 'PET_ARMADILLO', 'PET_BABY_YETI', 'PET_BAL','PET_BAT','PET_BEE','PET_BLACK_CAT','PET_BLAZE','PET_BLUE_WHALE','PET_CHICKEN','PET_DOLPHIN','PET_ELEPHANT','PET_ENDER_DRAGON','PET_ENDERMAN','PET_ENDERMITE','PET_FLYING_FISH','PET_GHOUL','PET_GIRAFFE','PET_GOLDEN_DRAGON','PET_GOLEM','PET_GRIFFIN','PET_GUARDIAN','PET_HORSE','PET_HOUND','PET_JELLYFISH','PET_JERRY','PET_LION','PET_MAGMA_CUBE','PET_MEGALODON','PET_MITHRIL_GOLEM','PET_MONKEY','PET_MOOSHROOM_COW','PET_OCELOT','PET_PARROT','PET_PHOENIX','PET_PIG','PET_PIGMAN','PET_RABBIT','PET_RAT','PET_REINDEER','PET_ROCK','PET_SCATHA','PET_SHEEP','PET_SILVERFISH','PET_SKELETON','PET_SKELETON_HORSE','PET_SNAIL','PET_SNOWMAN','PET_SPIDER','PET_SPIRIT','PET_SQUID','PET_TARANTULA','PET_TIGER','PET_TURTLE','PET_FROST_WISP','PET_WITHER_SKELETON','PET_WOLF','PET_ZOMBIE']"
   ],
   "metadata": {
    "collapsed": false,
    "ExecuteTime": {
     "end_time": "2023-05-24T23:32:00.724974100Z",
     "start_time": "2023-05-24T23:32:00.722918Z"
    }
   }
  },
  {
   "cell_type": "code",
   "execution_count": 5,
   "outputs": [],
   "source": [
    "petsData = []\n",
    "\n",
    "for i in pets:\n",
    "    for j in range(1):\n",
    "        res = get(\n",
    "            f'https://sky.coflnet.com/api/auctions/tag/{i}/sold?page={j}&pageSize=1000&token={os.getenv(\"token\")}')\n",
    "        petsData.extend(res.json())"
   ],
   "metadata": {
    "collapsed": false,
    "ExecuteTime": {
     "end_time": "2023-05-24T23:32:29.417652100Z",
     "start_time": "2023-05-24T23:32:00.726004Z"
    }
   }
  },
  {
   "cell_type": "code",
   "execution_count": 6,
   "outputs": [],
   "source": [
    "petsData = list(filter(lambda elm: not isinstance(elm, str), petsData))"
   ],
   "metadata": {
    "collapsed": false,
    "ExecuteTime": {
     "end_time": "2023-05-24T23:32:29.431651700Z",
     "start_time": "2023-05-24T23:32:29.428662900Z"
    }
   }
  },
  {
   "cell_type": "code",
   "execution_count": 7,
   "outputs": [
    {
     "name": "stdout",
     "output_type": "stream",
     "text": [
      "49226\n"
     ]
    }
   ],
   "source": [
    "print(len(petsData))"
   ],
   "metadata": {
    "collapsed": false,
    "ExecuteTime": {
     "end_time": "2023-05-24T23:32:29.437685800Z",
     "start_time": "2023-05-24T23:32:29.432653900Z"
    }
   }
  },
  {
   "cell_type": "code",
   "execution_count": 34,
   "outputs": [],
   "source": [
    "raw_df = pd.DataFrame(petsData)\n",
    "# df.columns"
   ],
   "metadata": {
    "collapsed": false,
    "ExecuteTime": {
     "end_time": "2023-05-24T23:43:41.236320300Z",
     "start_time": "2023-05-24T23:43:41.013512800Z"
    }
   }
  },
  {
   "cell_type": "code",
   "execution_count": 42,
   "outputs": [],
   "source": [
    "def organize_data(df):\n",
    "    price, start_time, end_time = df['highestBidAmount'], df['start'],  df['end']\n",
    "    # start_time = pd.to_datetime(start_time, format='mixed').astype('int64')\n",
    "    end_time = pd.to_datetime(end_time, format='mixed').astype('int64')\n",
    "\n",
    "    nbtData = pd.json_normalize(df['flatNbt'])\n",
    "\n",
    "    nbtData = nbtData.drop(columns=['uuid', 'uid', 'bossId', 'hideRightClick', 'spawnedFor', 'active', 'blaze_kills'])\n",
    "\n",
    "    nbtData['candyUsed'] = nbtData['candyUsed'].fillna(0)\n",
    "    nbtData = nbtData.fillna('')\n",
    "\n",
    "    nbtData.type = nbtData.type.astype('category')\n",
    "    nbtData.skin = nbtData.skin.astype('category')\n",
    "    nbtData.heldItem = nbtData.heldItem.astype('category')\n",
    "    nbtData.tier = nbtData.tier.astype('category')\n",
    "\n",
    "    nbtData.exp = nbtData.exp.astype(np.float32)\n",
    "    nbtData.hideInfo = nbtData.hideInfo.astype(bool)\n",
    "    nbtData.candyUsed = nbtData.candyUsed.astype(int)\n",
    "\n",
    "    return pd.concat([nbtData, price, end_time], axis=1)"
   ],
   "metadata": {
    "collapsed": false,
    "ExecuteTime": {
     "end_time": "2023-05-24T23:50:35.616014700Z",
     "start_time": "2023-05-24T23:50:35.602897600Z"
    }
   }
  },
  {
   "cell_type": "code",
   "execution_count": 43,
   "outputs": [],
   "source": [
    "df = organize_data(raw_df)"
   ],
   "metadata": {
    "collapsed": false,
    "ExecuteTime": {
     "end_time": "2023-05-24T23:50:36.203970500Z",
     "start_time": "2023-05-24T23:50:35.797898800Z"
    }
   }
  },
  {
   "cell_type": "code",
   "execution_count": null,
   "outputs": [],
   "source": [
    "get_lbin(df, item):\n",
    "    df.filter()"
   ],
   "metadata": {
    "collapsed": false
   }
  },
  {
   "cell_type": "code",
   "execution_count": null,
   "outputs": [],
   "source": [
    "bst = xgb.Booster()"
   ],
   "metadata": {
    "collapsed": false,
    "ExecuteTime": {
     "start_time": "2023-05-24T23:41:15.875331400Z"
    }
   }
  },
  {
   "cell_type": "code",
   "execution_count": 20,
   "outputs": [],
   "source": [
    "bst.load_model('./model.json')"
   ],
   "metadata": {
    "collapsed": false,
    "ExecuteTime": {
     "end_time": "2023-05-24T23:35:08.657807Z",
     "start_time": "2023-05-24T23:35:08.616309100Z"
    }
   }
  },
  {
   "cell_type": "code",
   "execution_count": 44,
   "outputs": [
    {
     "data": {
      "text/plain": "           type           exp       tier  hideInfo            heldItem   \n0      AMMONITE  2.549906e+07  LEGENDARY      True  WASHED_UP_SOUVENIR  \\\n1      AMMONITE  2.856624e+07  LEGENDARY      True  WASHED_UP_SOUVENIR   \n2      AMMONITE  4.241098e+07  LEGENDARY      True  WASHED_UP_SOUVENIR   \n3      AMMONITE  0.000000e+00  LEGENDARY      True                       \n4      AMMONITE  1.702611e+05  LEGENDARY      True                       \n...         ...           ...        ...       ...                 ...   \n49221    ZOMBIE  0.000000e+00       RARE      True                       \n49222    ZOMBIE  0.000000e+00       EPIC      True                       \n49223    ZOMBIE  0.000000e+00       EPIC      True                       \n49224    ZOMBIE  0.000000e+00  LEGENDARY      True                       \n49225    ZOMBIE  0.000000e+00  LEGENDARY      True                       \n\n       candyUsed skin  highestBidAmount                  end  \n0              0               30500000  1684968221000000000  \n1              0               29999900  1684967783000000000  \n2              0               29200000  1684967768000000000  \n3              0                 849000  1684967246000000000  \n4              0                 849000  1684966892000000000  \n...          ...  ...               ...                  ...  \n49221          0                 300000  1684368461000000000  \n49222          0                 800000  1684368062000000000  \n49223          0                 800000  1684366820000000000  \n49224          0                5777000  1684365656000000000  \n49225          0                5777000  1684364704000000000  \n\n[49226 rows x 9 columns]",
      "text/html": "<div>\n<style scoped>\n    .dataframe tbody tr th:only-of-type {\n        vertical-align: middle;\n    }\n\n    .dataframe tbody tr th {\n        vertical-align: top;\n    }\n\n    .dataframe thead th {\n        text-align: right;\n    }\n</style>\n<table border=\"1\" class=\"dataframe\">\n  <thead>\n    <tr style=\"text-align: right;\">\n      <th></th>\n      <th>type</th>\n      <th>exp</th>\n      <th>tier</th>\n      <th>hideInfo</th>\n      <th>heldItem</th>\n      <th>candyUsed</th>\n      <th>skin</th>\n      <th>highestBidAmount</th>\n      <th>end</th>\n    </tr>\n  </thead>\n  <tbody>\n    <tr>\n      <th>0</th>\n      <td>AMMONITE</td>\n      <td>2.549906e+07</td>\n      <td>LEGENDARY</td>\n      <td>True</td>\n      <td>WASHED_UP_SOUVENIR</td>\n      <td>0</td>\n      <td></td>\n      <td>30500000</td>\n      <td>1684968221000000000</td>\n    </tr>\n    <tr>\n      <th>1</th>\n      <td>AMMONITE</td>\n      <td>2.856624e+07</td>\n      <td>LEGENDARY</td>\n      <td>True</td>\n      <td>WASHED_UP_SOUVENIR</td>\n      <td>0</td>\n      <td></td>\n      <td>29999900</td>\n      <td>1684967783000000000</td>\n    </tr>\n    <tr>\n      <th>2</th>\n      <td>AMMONITE</td>\n      <td>4.241098e+07</td>\n      <td>LEGENDARY</td>\n      <td>True</td>\n      <td>WASHED_UP_SOUVENIR</td>\n      <td>0</td>\n      <td></td>\n      <td>29200000</td>\n      <td>1684967768000000000</td>\n    </tr>\n    <tr>\n      <th>3</th>\n      <td>AMMONITE</td>\n      <td>0.000000e+00</td>\n      <td>LEGENDARY</td>\n      <td>True</td>\n      <td></td>\n      <td>0</td>\n      <td></td>\n      <td>849000</td>\n      <td>1684967246000000000</td>\n    </tr>\n    <tr>\n      <th>4</th>\n      <td>AMMONITE</td>\n      <td>1.702611e+05</td>\n      <td>LEGENDARY</td>\n      <td>True</td>\n      <td></td>\n      <td>0</td>\n      <td></td>\n      <td>849000</td>\n      <td>1684966892000000000</td>\n    </tr>\n    <tr>\n      <th>...</th>\n      <td>...</td>\n      <td>...</td>\n      <td>...</td>\n      <td>...</td>\n      <td>...</td>\n      <td>...</td>\n      <td>...</td>\n      <td>...</td>\n      <td>...</td>\n    </tr>\n    <tr>\n      <th>49221</th>\n      <td>ZOMBIE</td>\n      <td>0.000000e+00</td>\n      <td>RARE</td>\n      <td>True</td>\n      <td></td>\n      <td>0</td>\n      <td></td>\n      <td>300000</td>\n      <td>1684368461000000000</td>\n    </tr>\n    <tr>\n      <th>49222</th>\n      <td>ZOMBIE</td>\n      <td>0.000000e+00</td>\n      <td>EPIC</td>\n      <td>True</td>\n      <td></td>\n      <td>0</td>\n      <td></td>\n      <td>800000</td>\n      <td>1684368062000000000</td>\n    </tr>\n    <tr>\n      <th>49223</th>\n      <td>ZOMBIE</td>\n      <td>0.000000e+00</td>\n      <td>EPIC</td>\n      <td>True</td>\n      <td></td>\n      <td>0</td>\n      <td></td>\n      <td>800000</td>\n      <td>1684366820000000000</td>\n    </tr>\n    <tr>\n      <th>49224</th>\n      <td>ZOMBIE</td>\n      <td>0.000000e+00</td>\n      <td>LEGENDARY</td>\n      <td>True</td>\n      <td></td>\n      <td>0</td>\n      <td></td>\n      <td>5777000</td>\n      <td>1684365656000000000</td>\n    </tr>\n    <tr>\n      <th>49225</th>\n      <td>ZOMBIE</td>\n      <td>0.000000e+00</td>\n      <td>LEGENDARY</td>\n      <td>True</td>\n      <td></td>\n      <td>0</td>\n      <td></td>\n      <td>5777000</td>\n      <td>1684364704000000000</td>\n    </tr>\n  </tbody>\n</table>\n<p>49226 rows × 9 columns</p>\n</div>"
     },
     "execution_count": 44,
     "metadata": {},
     "output_type": "execute_result"
    }
   ],
   "source": [
    "df"
   ],
   "metadata": {
    "collapsed": false,
    "ExecuteTime": {
     "end_time": "2023-05-24T23:50:43.709057500Z",
     "start_time": "2023-05-24T23:50:43.685639Z"
    }
   }
  }
 ],
 "metadata": {
  "kernelspec": {
   "name": "hypri",
   "language": "python",
   "display_name": "hypri"
  },
  "language_info": {
   "codemirror_mode": {
    "name": "ipython",
    "version": 3
   },
   "file_extension": ".py",
   "mimetype": "text/x-python",
   "name": "python",
   "nbconvert_exporter": "python",
   "pygments_lexer": "ipython3",
   "version": "3.11.3"
  },
  "orig_nbformat": 4
 },
 "nbformat": 4,
 "nbformat_minor": 2
}
