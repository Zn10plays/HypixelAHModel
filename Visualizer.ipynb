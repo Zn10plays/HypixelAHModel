{
 "cells": [
  {
   "cell_type": "code",
   "execution_count": 1,
   "metadata": {
    "id": "Rm2sFrb8--bB",
    "ExecuteTime": {
     "end_time": "2023-07-14T15:57:51.172424800Z",
     "start_time": "2023-07-14T15:57:43.045027700Z"
    }
   },
   "outputs": [],
   "source": [
    "import numpy as np\n",
    "import pandas as pd\n",
    "import matplotlib.pyplot as plt\n",
    "from requests import get\n",
    "import tensorflow as tf\n",
    "import os"
   ]
  },
  {
   "cell_type": "code",
   "execution_count": 2,
   "outputs": [
    {
     "data": {
      "text/plain": "'2.12.0'"
     },
     "execution_count": 2,
     "metadata": {},
     "output_type": "execute_result"
    }
   ],
   "source": [
    "tf.__version__"
   ],
   "metadata": {
    "collapsed": false,
    "ExecuteTime": {
     "end_time": "2023-07-14T15:57:51.182662100Z",
     "start_time": "2023-07-14T15:57:51.176412600Z"
    }
   }
  },
  {
   "cell_type": "code",
   "execution_count": 3,
   "metadata": {
    "id": "UpC2zn99BCWu",
    "ExecuteTime": {
     "end_time": "2023-07-14T15:57:51.185172100Z",
     "start_time": "2023-07-14T15:57:51.183173600Z"
    }
   },
   "outputs": [],
   "source": [
    "pets = ['PET_AMMONITE', 'PET_ARMADILLO', 'PET_BABY_YETI', 'PET_BAL','PET_BAT','PET_BEE','PET_BLACK_CAT','PET_BLAZE','PET_BLUE_WHALE','PET_CHICKEN','PET_DOLPHIN','PET_ELEPHANT','PET_ENDER_DRAGON','PET_ENDERMAN','PET_ENDERMITE','PET_FLYING_FISH','PET_GHOUL','PET_GIRAFFE','PET_GOLDEN_DRAGON','PET_GOLEM','PET_GRIFFIN','PET_GUARDIAN','PET_HORSE','PET_HOUND','PET_JELLYFISH','PET_JERRY','PET_LION','PET_MAGMA_CUBE','PET_MEGALODON','PET_MITHRIL_GOLEM','PET_MONKEY','PET_MOOSHROOM_COW','PET_OCELOT','PET_PARROT','PET_PHOENIX','PET_PIG','PET_PIGMAN','PET_RABBIT','PET_RAT','PET_REINDEER','PET_ROCK','PET_SCATHA','PET_SHEEP','PET_SILVERFISH','PET_SKELETON','PET_SKELETON_HORSE','PET_SNAIL','PET_SNOWMAN','PET_SPIDER','PET_SPIRIT','PET_SQUID','PET_TARANTULA','PET_TIGER','PET_TURTLE','PET_FROST_WISP','PET_WITHER_SKELETON','PET_WOLF','PET_ZOMBIE']"
   ]
  },
  {
   "cell_type": "code",
   "execution_count": 4,
   "metadata": {
    "id": "sYxAJQDh-9Kg",
    "ExecuteTime": {
     "end_time": "2023-07-14T15:59:34.332306500Z",
     "start_time": "2023-07-14T15:57:51.186182Z"
    }
   },
   "outputs": [],
   "source": [
    "petsData = []\n",
    "\n",
    "for i in pets:\n",
    "  for j in range(1):\n",
    "    res = get(f'https://sky.coflnet.com/api/auctions/tag/{i}/sold?page={j}&pageSize=1000&token=64wcAGNBYE8tMW7w9W2vWq')\n",
    "    petsData.extend(res.json())"
   ]
  },
  {
   "cell_type": "code",
   "execution_count": 5,
   "metadata": {
    "id": "C_lUodvyXJed",
    "ExecuteTime": {
     "end_time": "2023-07-14T15:59:34.346688500Z",
     "start_time": "2023-07-14T15:59:34.334297100Z"
    }
   },
   "outputs": [],
   "source": [
    "petsData = list(filter(lambda elm: not isinstance(elm, str), petsData))"
   ]
  },
  {
   "cell_type": "code",
   "execution_count": 6,
   "metadata": {
    "colab": {
     "base_uri": "https://localhost:8080/"
    },
    "id": "756LwXZ7UZjv",
    "outputId": "16e8662a-10fd-4772-aa48-b0016eef7450",
    "ExecuteTime": {
     "end_time": "2023-07-14T15:59:34.355493300Z",
     "start_time": "2023-07-14T15:59:34.348696400Z"
    }
   },
   "outputs": [
    {
     "name": "stdout",
     "output_type": "stream",
     "text": [
      "56761\n"
     ]
    }
   ],
   "source": [
    "print(len(petsData))"
   ]
  }
 ],
 "metadata": {
  "colab": {
   "provenance": []
  },
  "kernelspec": {
   "name": "hypredictor",
   "language": "python",
   "display_name": "hypredictor"
  },
  "language_info": {
   "codemirror_mode": {
    "name": "ipython",
    "version": 3
   },
   "file_extension": ".py",
   "mimetype": "text/x-python",
   "name": "python",
   "nbconvert_exporter": "python",
   "pygments_lexer": "ipython3",
   "version": "3.11.3"
  }
 },
 "nbformat": 4,
 "nbformat_minor": 4
}
